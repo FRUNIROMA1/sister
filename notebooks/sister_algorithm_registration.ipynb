{
 "cells": [
  {
   "cell_type": "markdown",
   "id": "c50e68ff",
   "metadata": {},
   "source": [
    "# SISTER Algorithm registration"
   ]
  },
  {
   "cell_type": "code",
   "execution_count": 2,
   "id": "77b7ab36",
   "metadata": {},
   "outputs": [],
   "source": [
    "from maap.maap import MAAP\n",
    "maap = MAAP(maap_host=\"sister-api.imgspec.org\")"
   ]
  },
  {
   "cell_type": "markdown",
   "id": "5a7febc4",
   "metadata": {},
   "source": [
    "## sister-preprocess\n",
    "\n",
    "https://github.com/EnSpec/sister-preprocess"
   ]
  },
  {
   "cell_type": "code",
   "execution_count": null,
   "id": "b44a5a21",
   "metadata": {},
   "outputs": [],
   "source": [
    "preprocess_alg = {\n",
    "    \"script_command\": \"sister-preprocess/.imgspec/imgspec_run.sh\",\n",
    "    \"repo_url\": \"https://github.com/EnSpec/sister-preprocess.git\",\n",
    "    \"algorithm_name\":\"sister-preprocess\",\n",
    "    \"code_version\":\"sister-dev\",\n",
    "    \"algorithm_description\":\"Preprocess L1 image data for input into downstream algorithms\",\n",
    "    \"environment_name\":\"ubuntu\",\n",
    "    \"disk_space\":\"50GB\",\n",
    "    \"queue\": \"sister-job_worker-32gb\",\n",
    "    \"build_command\": \"sister-preprocess/.imgspec/install.sh\",\n",
    "    \"docker_container_url\":\"mas.dit.maap-project.org/root/maap-workspaces/base_images/vanilla:dit\",\n",
    "    \"algorithm_params\":[\n",
    "        {\n",
    "            \"field\": \"l1_granule\",\n",
    "            \"type\": \"file\"\n",
    "        },\n",
    "          {\n",
    "            \"field\": \"landsat\",\n",
    "            \"type\": \"positional\",\n",
    "            \"default\": \"None\"\n",
    "        }\n",
    "    ]\n",
    "}\n",
    "\n",
    "response = maap.registerAlgorithm(arg=preprocess_alg)\n",
    "print(response.content.decode(\"UTF-8\"))"
   ]
  },
  {
   "cell_type": "markdown",
   "id": "af3701f9",
   "metadata": {},
   "source": [
    "## sister-isofit"
   ]
  },
  {
   "cell_type": "code",
   "execution_count": 7,
   "id": "ed7fe2ff",
   "metadata": {},
   "outputs": [
    {
     "name": "stderr",
     "output_type": "stream",
     "text": [
      "/Users/achlus/opt/anaconda3/envs/python38/lib/python3.8/site-packages/urllib3/connectionpool.py:1045: InsecureRequestWarning: Unverified HTTPS request is being made to host 'sister-api.imgspec.org'. Adding certificate verification is strongly advised. See: https://urllib3.readthedocs.io/en/1.26.x/advanced-usage.html#ssl-warnings\n",
      "  warnings.warn(\n"
     ]
    },
    {
     "name": "stdout",
     "output_type": "stream",
     "text": [
      "{\"code\": 200, \"data\": {\"id\": \"19dc6e02d6507fb02384d2d4d586a7da5a192228\", \"short_id\": \"19dc6e02\", \"created_at\": \"2022-09-16T22:37:04.000+00:00\", \"parent_ids\": [\"0e0dc851e633b775bf94441e1df004ef4de597b1\"], \"title\": \"Registering algorithm: isofit_ubuntu\", \"message\": \"Registering algorithm: isofit_ubuntu\", \"author_name\": \"root\", \"author_email\": \"root@86fcd50a6865\", \"authored_date\": \"2022-09-16T22:37:04.000+00:00\", \"committer_name\": \"root\", \"committer_email\": \"root@86fcd50a6865\", \"committed_date\": \"2022-09-16T22:37:04.000+00:00\", \"trailers\": {}, \"web_url\": \"https://gitlab.com/geospec/dps/register-job/-/commit/19dc6e02d6507fb02384d2d4d586a7da5a192228\", \"stats\": {\"additions\": 0, \"deletions\": 0, \"total\": 0}, \"status\": \"running\", \"project_id\": 20629320, \"last_pipeline\": {\"id\": 642808126, \"iid\": 73, \"project_id\": 20629320, \"sha\": \"19dc6e02d6507fb02384d2d4d586a7da5a192228\", \"ref\": \"master\", \"status\": \"running\", \"source\": \"push\", \"created_at\": \"2022-09-16T22:37:05.687Z\", \"updated_at\": \"2022-09-16T22:37:06.475Z\", \"web_url\": \"https://gitlab.com/geospec/dps/register-job/-/pipelines/642808126\"}, \"job_web_url\": \"https://gitlab.com/geospec/dps/register-job/-/jobs/3042643094\", \"job_log_url\": \"https://gitlab.com/geospec/dps/register-job/-/jobs/3042643094/raw\"}}\n",
      "\n"
     ]
    }
   ],
   "source": [
    "isofit_alg = {\n",
    "    \"script_command\": \"isofit/.imgspec/imgspec_run.sh\",\n",
    "    \"repo_url\": \"https://github.com/adamchlus/isofit.git\",\n",
    "    \"algorithm_name\":\"isofit\",\n",
    "    \"code_version\":\"sister-dev\",\n",
    "    \"algorithm_description\":\"ISOFIT\",\n",
    "    \"environment_name\":\"ubuntu\",\n",
    "    \"disk_space\":\"70GB\",\n",
    "    \"queue\": \"sister-job_worker-32gb\",\n",
    "    \"build_command\": \"isofit/.imgspec/install.sh\",\n",
    "    \"docker_container_url\":\"localhost:5050/root/ade_base_images/isofit:latest\",\n",
    "    \"algorithm_params\":[\n",
    "        {\n",
    "            \"field\": \"l1_granule\",\n",
    "            \"type\": \"file\"\n",
    "        },\n",
    "        {\n",
    "            \"field\": \"surface_reflectance_spectra\",\n",
    "            \"type\": \"positional\"\n",
    "        },\n",
    "        {\n",
    "            \"field\": \"vegetation_reflectance_spectra\",\n",
    "            \"type\": \"positional\"\n",
    "        },\n",
    "        {\n",
    "            \"field\": \"water_reflectance_spectra\",\n",
    "            \"type\": \"positional\"\n",
    "        },\n",
    "        {\n",
    "            \"field\": \"snow_and_liquids_reflectance_spectra\",\n",
    "            \"type\": \"positional\"\n",
    "        },\n",
    "        {\n",
    "            \"field\": \"segmentation_size\",\n",
    "            \"type\": \"positional\"\n",
    "        },\n",
    "        {\n",
    "            \"field\": \"n_cores\",\n",
    "            \"type\": \"positional\"\n",
    "        },\n",
    "\n",
    "    ]\n",
    "}\n",
    "\n",
    "response = maap.registerAlgorithm(arg=isofit_alg)\n",
    "print(response.content.decode(\"UTF-8\"))"
   ]
  },
  {
   "cell_type": "markdown",
   "id": "96040430",
   "metadata": {},
   "source": [
    "## sister-resample\n",
    "\n",
    "https://github.com/EnSpec/sister-resample"
   ]
  },
  {
   "cell_type": "code",
   "execution_count": null,
   "id": "9b499121",
   "metadata": {},
   "outputs": [],
   "source": [
    "resample_alg = {\n",
    "    \"script_command\": \"sister-resample/.imgspec/imgspec_run.sh\",\n",
    "    \"repo_url\": \"https://github.com/EnSpec/sister-resample.git\",\n",
    "    \"algorithm_name\":\"sister-resample\",\n",
    "    \"code_version\":\"sister-dev\",\n",
    "    \"algorithm_description\":\"Spectrally resample reflectance and uncertainty images\",\n",
    "    \"environment_name\":\"ubuntu\",\n",
    "    \"disk_space\":\"50GB\",\n",
    "    \"queue\": \"sister-job_worker-32gb\",\n",
    "    \"build_command\": \"sister-resample/.imgspec/install.sh\",\n",
    "    \"docker_container_url\":\"mas.dit.maap-project.org/root/maap-workspaces/base_images/vanilla:dit\",\n",
    "    \"algorithm_params\":[\n",
    "        {\n",
    "            \"field\": \"l2a_granule\",\n",
    "            \"type\": \"file\"\n",
    "        }\n",
    "    ]\n",
    "}\n",
    "\n",
    "response = maap.registerAlgorithm(resample_alg)\n",
    "print(response.text)"
   ]
  },
  {
   "cell_type": "markdown",
   "id": "1d14b29b",
   "metadata": {},
   "source": [
    "## sister-reflect_correct\n",
    "\n",
    "https://github.com/EnSpec/sister-reflect_correct"
   ]
  },
  {
   "cell_type": "code",
   "execution_count": null,
   "id": "485b26bd",
   "metadata": {},
   "outputs": [],
   "source": [
    "\n",
    "rfl_correct_alg = {\n",
    "    \"script_command\": \"sister-reflect_correct/.imgspec/imgspec_run.sh\",\n",
    "    \"repo_url\": \"https://github.com/EnSpec/sister-reflect_correct.git\",\n",
    "    \"algorithm_name\":\"sister-reflect_correct\",\n",
    "    \"code_version\":\"sister-dev\",\n",
    "    \"algorithm_description\":\"Topo, BRDF and glint correction\",\n",
    "    \"environment_name\":\"ubuntu\",\n",
    "    \"disk_space\":\"70GB\",\n",
    "    \"queue\": \"sister-job_worker-32gb\",\n",
    "    \"build_command\": \"sister-reflect_correct/.imgspec/install.sh\",\n",
    "    \"docker_container_url\":\"mas.dit.maap-project.org/root/maap-workspaces/base_images/vanilla:dit\",\n",
    "    \"algorithm_params\":[\n",
    "        {\n",
    "            \"field\": \"l1b_granule\",\n",
    "            \"type\": \"file\"\n",
    "        },\n",
    "        {\n",
    "            \"field\": \"l2a_granule\",\n",
    "            \"type\": \"file\"\n",
    "        }\n",
    "    ]\n",
    "}\n",
    "response = maap.registerAlgorithm(arg=rfl_correct_alg)"
   ]
  }
 ],
 "metadata": {
  "kernelspec": {
   "display_name": "Python 3 (ipykernel)",
   "language": "python",
   "name": "python3"
  },
  "language_info": {
   "codemirror_mode": {
    "name": "ipython",
    "version": 3
   },
   "file_extension": ".py",
   "mimetype": "text/x-python",
   "name": "python",
   "nbconvert_exporter": "python",
   "pygments_lexer": "ipython3",
   "version": "3.8.2"
  }
 },
 "nbformat": 4,
 "nbformat_minor": 5
}
