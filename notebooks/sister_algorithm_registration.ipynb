{
 "cells": [
  {
   "cell_type": "markdown",
   "id": "c50e68ff",
   "metadata": {},
   "source": [
    "# SISTER Algorithm registration"
   ]
  },
  {
   "cell_type": "code",
   "execution_count": null,
   "id": "77b7ab36",
   "metadata": {},
   "outputs": [],
   "source": [
    "from maap.maap import MAAP\n",
    "maap = MAAP(maap_host=\"sister-api.imgspec.org\")"
   ]
  },
  {
   "cell_type": "markdown",
   "id": "5a7febc4",
   "metadata": {},
   "source": [
    "## sister-preprocess\n",
    "\n",
    "https://github.com/EnSpec/sister-preprocess"
   ]
  },
  {
   "cell_type": "code",
   "execution_count": null,
   "id": "b44a5a21",
   "metadata": {},
   "outputs": [],
   "source": [
    "preprocess_alg = {\n",
    "    \"script_command\": \"sister-preprocess/.imgspec/imgspec_run.sh\",\n",
    "    \"repo_url\": \"https://github.com/EnSpec/sister-preprocess.git\",\n",
    "    \"algorithm_name\":\"sister-preprocess\",\n",
    "    \"code_version\":\"1.0.0\",\n",
    "    \"algorithm_description\":\"Preprocess L1 image data for input into downstream algorithms\",\n",
    "    \"environment_name\":\"ubuntu\",\n",
    "    \"disk_space\":\"50GB\",\n",
    "    \"queue\": \"sister-job_worker-32gb\",\n",
    "    \"build_command\": \"sister-preprocess/.imgspec/install.sh\",\n",
    "    \"docker_container_url\":\"mas.dit.maap-project.org/root/maap-workspaces/base_images/vanilla:dit\",\n",
    "    \"algorithm_params\":[\n",
    "        {\n",
    "            \"field\": \"l1_granule\",\n",
    "            \"type\": \"file\"\n",
    "        },\n",
    "          {\n",
    "            \"field\": \"landsat\",\n",
    "            \"type\": \"positional\",\n",
    "            \"default\": \"None\"\n",
    "        }\n",
    "    ]\n",
    "}\n",
    "\n",
    "response = maap.registerAlgorithm(arg=preprocess_alg)\n",
    "print(response.content.decode(\"UTF-8\"))"
   ]
  },
  {
   "cell_type": "markdown",
   "id": "af3701f9",
   "metadata": {},
   "source": [
    "## sister-isofit"
   ]
  },
  {
   "cell_type": "code",
   "execution_count": null,
   "id": "ed7fe2ff",
   "metadata": {},
   "outputs": [],
   "source": [
    "isofit_alg = {\n",
    "    \"script_command\": \"sister-isofit/.imgspec/imgspec_run.sh\",\n",
    "    \"repo_url\": \"https://gitlab.com/geospec/sister-isofit.git\",\n",
    "    \"algorithm_name\": \"sister-isofit\",\n",
    "    \"code_version\": \"1.0.0\",\n",
    "    \"algorithm_description\": \"The SISTER wrapper for ISOFIT. ISOFIT (Imaging Spectrometer Optimal FITting) contains a set of routines and utilities for fitting surface, atmosphere and instrument models to imaging spectrometer data.\",\n",
    "    \"environment_name\":\"ubuntu\",\n",
    "    \"disk_space\": \"70GB\",\n",
    "    \"queue\": \"sister-job_worker-32gb\",\n",
    "    \"build_command\": \"sister-isofit/.imgspec/install.sh\",\n",
    "    \"docker_container_url\": \"localhost:5050/base_images/isofit:1.0\",\n",
    "    \"algorithm_params\": [\n",
    "        {\n",
    "            \"field\": \"l1_granule\",\n",
    "            \"type\": \"file\"\n",
    "        },\n",
    "        {\n",
    "            \"field\": \"surface_reflectance_spectra\",\n",
    "            \"type\": \"positional\"\n",
    "        },\n",
    "        {\n",
    "            \"field\": \"vegetation_reflectance_spectra\",\n",
    "            \"type\": \"positional\"\n",
    "        },\n",
    "        {\n",
    "            \"field\": \"water_reflectance_spectra\",\n",
    "            \"type\": \"positional\"\n",
    "        },\n",
    "        {\n",
    "            \"field\": \"snow_and_liquids_reflectance_spectra\",\n",
    "            \"type\": \"positional\"\n",
    "        },\n",
    "        {\n",
    "            \"field\": \"segmentation_size\",\n",
    "            \"type\": \"positional\",\n",
    "            \"default\": \"50\"\n",
    "        },\n",
    "        {\n",
    "            \"field\": \"n_cores\",\n",
    "            \"type\": \"positional\",\n",
    "            \"default\": \"32\"\n",
    "        }\n",
    "    ]\n",
    "}\n",
    "\n",
    "response = maap.registerAlgorithm(arg=isofit_alg)\n",
    "print(response.content.decode(\"UTF-8\"))"
   ]
  },
  {
   "cell_type": "markdown",
   "id": "96040430",
   "metadata": {},
   "source": [
    "## sister-resample\n",
    "\n",
    "https://github.com/EnSpec/sister-resample"
   ]
  },
  {
   "cell_type": "code",
   "execution_count": null,
   "id": "9b499121",
   "metadata": {},
   "outputs": [],
   "source": [
    "resample_alg = {\n",
    "    \"script_command\": \"sister-resample/.imgspec/imgspec_run.sh\",\n",
    "    \"repo_url\": \"https://github.com/EnSpec/sister-resample.git\",\n",
    "    \"algorithm_name\":\"sister-resample\",\n",
    "    \"code_version\":\"1.1.0\",\n",
    "    \"algorithm_description\":\"Spectrally resample reflectance and uncertainty images\",\n",
    "    \"environment_name\":\"ubuntu\",\n",
    "    \"disk_space\":\"50GB\",\n",
    "    \"queue\": \"sister-job_worker-32gb\",\n",
    "    \"build_command\": \"sister-resample/.imgspec/install.sh\",\n",
    "    \"docker_container_url\":\"mas.dit.maap-project.org/root/maap-workspaces/base_images/vanilla:dit\",\n",
    "    \"algorithm_params\":[\n",
    "        {\n",
    "            \"field\": \"l2a_granule\",\n",
    "            \"type\": \"file\"\n",
    "        }\n",
    "    ]\n",
    "}\n",
    "\n",
    "response = maap.registerAlgorithm(resample_alg)\n",
    "print(response.text)"
   ]
  },
  {
   "cell_type": "markdown",
   "id": "1d14b29b",
   "metadata": {},
   "source": [
    "## sister-reflect_correct\n",
    "\n",
    "https://github.com/EnSpec/sister-reflect_correct"
   ]
  },
  {
   "cell_type": "code",
   "execution_count": 4,
   "id": "485b26bd",
   "metadata": {},
   "outputs": [
    {
     "name": "stderr",
     "output_type": "stream",
     "text": [
      "/Users/achlus/opt/anaconda3/envs/python38/lib/python3.8/site-packages/urllib3/connectionpool.py:1045: InsecureRequestWarning: Unverified HTTPS request is being made to host 'sister-api.imgspec.org'. Adding certificate verification is strongly advised. See: https://urllib3.readthedocs.io/en/1.26.x/advanced-usage.html#ssl-warnings\n",
      "  warnings.warn(\n"
     ]
    }
   ],
   "source": [
    "\n",
    "rfl_correct_alg = {\n",
    "    \"script_command\": \"sister-reflect_correct/.imgspec/imgspec_run.sh\",\n",
    "    \"repo_url\": \"https://github.com/EnSpec/sister-reflect_correct.git\",\n",
    "    \"algorithm_name\":\"sister-reflect_correct\",\n",
    "    \"code_version\":\"1.0.0\",\n",
    "    \"algorithm_description\":\"Topo, BRDF and glint correction\",\n",
    "    \"environment_name\":\"ubuntu\",\n",
    "    \"disk_space\":\"70GB\",\n",
    "    \"queue\": \"sister-job_worker-32gb\",\n",
    "    \"build_command\": \"sister-reflect_correct/.imgspec/install.sh\",\n",
    "    \"docker_container_url\":\"mas.dit.maap-project.org/root/maap-workspaces/base_images/vanilla:dit\",\n",
    "    \"algorithm_params\":[\n",
    "        {\n",
    "            \"field\": \"l1b_granule\",\n",
    "            \"type\": \"file\"\n",
    "        },\n",
    "        {\n",
    "            \"field\": \"l2a_granule\",\n",
    "            \"type\": \"file\"\n",
    "        }\n",
    "    ]\n",
    "}\n",
    "response = maap.registerAlgorithm(arg=rfl_correct_alg)"
   ]
  },
  {
   "cell_type": "code",
   "execution_count": null,
   "id": "571abd1e",
   "metadata": {},
   "outputs": [],
   "source": []
  }
 ],
 "metadata": {
  "kernelspec": {
   "display_name": "Python 3 (ipykernel)",
   "language": "python",
   "name": "python3"
  },
  "language_info": {
   "codemirror_mode": {
    "name": "ipython",
    "version": 3
   },
   "file_extension": ".py",
   "mimetype": "text/x-python",
   "name": "python",
   "nbconvert_exporter": "python",
   "pygments_lexer": "ipython3",
   "version": "3.8.2"
  }
 },
 "nbformat": 4,
 "nbformat_minor": 5
}
