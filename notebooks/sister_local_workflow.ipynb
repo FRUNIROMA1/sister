{
 "cells": [
  {
   "cell_type": "markdown",
   "id": "92f1151e",
   "metadata": {},
   "source": [
    "# SISTER workflow"
   ]
  },
  {
   "cell_type": "code",
   "execution_count": null,
   "id": "af102d2f",
   "metadata": {},
   "outputs": [],
   "source": [
    "import json\n",
    "import os\n",
    "import xml.etree.ElementTree as ET\n",
    "import pandas as pd\n",
    "import IPython\n",
    "\n",
    "# Import warnings module and ignore warnings in output below\n",
    "import warnings\n",
    "warnings.filterwarnings(\"ignore\")\n",
    "\n",
    "# Import and initialize MAAP class\n",
    "from maap.maap import MAAP\n",
    "maap = MAAP(maap_host=\"sister-api.imgspec.org\")\n",
    "\n",
    "def get_output(job_id):\n",
    "    result = maap.getJobResult(job_id)\n",
    "    granule = result.outputs[0] \n",
    "    quicklook = result.outputs[0].replace('.tar.gz','.png')\n",
    "    log = result.outputs[0].replace('.tar.gz','.log')\n",
    "    return granule,quicklook,log\n",
    "\n"
   ]
  },
  {
   "cell_type": "markdown",
   "id": "0f2a42bb",
   "metadata": {},
   "source": [
    "### Create unique scene identifier"
   ]
  },
  {
   "cell_type": "code",
   "execution_count": null,
   "id": "f191030c",
   "metadata": {},
   "outputs": [],
   "source": [
    "l1_granule = 'https://avng.jpl.nasa.gov/avng/y18_data/ang20180708t103149.tar.gz'\n",
    "\n",
    "landsat = 'None'   \n",
    "\n",
    "base_name = os.path.basename(l1_granule)\n",
    "\n",
    "if base_name.startswith('DESIS'):\n",
    "    sensor = 'DESIS'\n",
    "    datetime = base_name[31:46]\n",
    "\n",
    "elif base_name.startswith('PRS'):\n",
    "    sensor = 'PRISMA'\n",
    "    datetime = base_name[16:24] + 'T' + base_name[24:30]\n",
    "    landsat='s3://sister-ops-workspace/prisma/landsat_reference/PRS_%s_landsat.tar.gz' % base_name[16:50]\n",
    "\n",
    "elif base_name.startswith('ang'):\n",
    "    sensor = 'AVNG'\n",
    "    datetime = base_name[3:18]\n",
    "\n",
    "elif base_name.startswith('f'):\n",
    "    sensor = 'AVCL'\n",
    "    ''' AVIRIS classic filenames do not contain acquisition times,to be consistent with other\n",
    "        sensors and to ensure identifier codes are unique a time string is created using other\n",
    "        numbers in the filename            \n",
    "    '''     \n",
    "\n",
    "    datetime = \"20%sT%s%s%s\" % (base_name[1:7],\n",
    "                                base_name[8:10],\n",
    "                                base_name[11:13],\n",
    "                                base_name[14:16])\n",
    "else:\n",
    "    raise ValueError('Unrecognized L1 datafile')\n",
    "\n",
    "identifier = 'SISTER_%s_%s' % (sensor,datetime)\n",
    "\n",
    "print(identifier)\n"
   ]
  },
  {
   "cell_type": "markdown",
   "id": "46d7584d",
   "metadata": {},
   "source": [
    "## Step 1. Preprocess"
   ]
  },
  {
   "cell_type": "code",
   "execution_count": null,
   "id": "a716c10d",
   "metadata": {},
   "outputs": [],
   "source": [
    "preprocess_job_response = maap.submitJob(\n",
    "    algo_id=\"sister-preprocess_ubuntu\",\n",
    "    version=\"sister-dev\",\n",
    "    l1_granule=l1_granule,\n",
    "    landsat=landsat,\n",
    "    publish_to_cmr=False,\n",
    "    cmr_metadata={},\n",
    "    queue=\"sister-job_worker-32gb\",\n",
    "    identifier=\"%s_L1B_RDN_000\" % identifier)\n",
    "\n",
    "print('Submission status: %s' % preprocess_job_response.status)\n",
    "print('Job ID: %s' % preprocess_job_response.id)"
   ]
  },
  {
   "cell_type": "markdown",
   "id": "624b6da4",
   "metadata": {},
   "source": [
    "### Get preprocess output product  URL and show quicklook"
   ]
  },
  {
   "cell_type": "code",
   "execution_count": null,
   "id": "565fa276",
   "metadata": {},
   "outputs": [],
   "source": [
    "l1b_granule,l1b_qlook,l1b_log = get_output(preprocess_job_response.id)\n",
    "print(l1b_granule)\n",
    "\n",
    "IPython.display.Image(l1b_qlook)"
   ]
  },
  {
   "cell_type": "markdown",
   "id": "d86b2916",
   "metadata": {},
   "source": [
    "## Step 2. ISOFIT"
   ]
  },
  {
   "cell_type": "code",
   "execution_count": null,
   "id": "c6b170c3",
   "metadata": {},
   "outputs": [],
   "source": [
    "surface_reflectance_spectra = \"https://ecosis.org/api/package/emit-manually-adjusted-surface-reflectance-spectra/export\"\n",
    "vegetation_reflectance_spectra = \"https://ecosis.org/api/package/emit-manually-adjusted-vegetation-reflectance-spectra/export\"\n",
    "water_reflectance_spectra = \"https://ecosis.org/api/package/emit-manually-adjusted-water-reflectance-spectra/export\"\n",
    "snow_and_liquids_reflectance_spectra = \"https://ecosis.org/api/package/emit-manually-adjusted-snow-and-liquids-reflectance-spectra/export\"\n",
    "print(\"Starting ISOFIT atmospheric correction\")\n",
    "\n",
    "isofit_job_response = maap.submitJob(\n",
    "    algo_id=\"isofit_ubuntu\",\n",
    "    version=\"sister-dev\",\n",
    "    l1b_granule=l1b_granule,\n",
    "    surface_reflectance_spectra=surface_reflectance_spectra,\n",
    "    vegetation_reflectance_spectra=vegetation_reflectance_spectra,\n",
    "    water_reflectance_spectra=water_reflectance_spectra,\n",
    "    snow_and_liquids_reflectance_spectra=snow_and_liquids_reflectance_spectra,\n",
    "    segmentation_size = 50,\n",
    "    n_cores=32,\n",
    "    publish_to_cmr=False,\n",
    "    cmr_metadata={},\n",
    "    queue=\"sister-job_worker-32gb\",\n",
    "    identifier=\"%s_L2A_RFL_000\" % identifier)\n",
    "\n",
    "print('Submission status: %s' % isofit_job_response.status)\n",
    "print('Job ID: %s' % isofit_job_response.id)"
   ]
  },
  {
   "cell_type": "markdown",
   "id": "512d12bd",
   "metadata": {},
   "source": [
    "### Get ISOFIT output product  URL"
   ]
  },
  {
   "cell_type": "code",
   "execution_count": null,
   "id": "99e7efdc",
   "metadata": {},
   "outputs": [],
   "source": [
    "isofit_granule,isofit_qlook,isofit_log = get_output(isofit_job_response.id)\n",
    "print(isofit_granule)\n",
    "\n",
    "IPython.display.Image(isofit_qlook)"
   ]
  },
  {
   "cell_type": "markdown",
   "id": "cad6701e",
   "metadata": {},
   "source": [
    "## Step 3. Spectral resample"
   ]
  },
  {
   "cell_type": "code",
   "execution_count": null,
   "id": "29754f5a",
   "metadata": {},
   "outputs": [],
   "source": [
    "resample_job_response = maap.submitJob(\n",
    "    algo_id=\"sister-resample_ubuntu\",\n",
    "    version=\"sister-dev\",\n",
    "    l2a_granule=isofit_granule,\n",
    "    publish_to_cmr=False,\n",
    "    cmr_metadata={},\n",
    "    queue=\"sister-job_worker-32gb\",\n",
    "    identifier=\"%s_L2A_RSRFL_000\" % identifier)\n",
    "\n",
    "print('Submission status: %s' % resample_job_response.status)\n",
    "print('Job ID: %s' % resample_job_response.id)"
   ]
  },
  {
   "cell_type": "code",
   "execution_count": null,
   "id": "efb10ad1",
   "metadata": {},
   "outputs": [],
   "source": [
    "print('Job ID: %s' % resample_job_response.id)"
   ]
  },
  {
   "cell_type": "markdown",
   "id": "bf5e4f5b",
   "metadata": {},
   "source": [
    "### Get resampling output product  URL"
   ]
  },
  {
   "cell_type": "code",
   "execution_count": null,
   "id": "004ce672",
   "metadata": {},
   "outputs": [],
   "source": [
    "resample_granule,resample_qlook,resample_log = get_output(resample_job_response.id)\n",
    "print(resample_granule)\n",
    "IPython.display.Image(resample_qlook)"
   ]
  },
  {
   "cell_type": "markdown",
   "id": "31719b9b",
   "metadata": {},
   "source": [
    "## Step 4. Reflectance correction"
   ]
  },
  {
   "cell_type": "code",
   "execution_count": null,
   "id": "a4fb79f1",
   "metadata": {},
   "outputs": [],
   "source": [
    "rfl_corr_job_response = maap.submitJob(\n",
    "    algo_id=\"sister-reflect_correct_ubuntu\",\n",
    "    version=\"sister-dev\",\n",
    "    l1b_granule=l1b_granule,\n",
    "    l2a_granule=resample_granule,\n",
    "    publish_to_cmr=False,\n",
    "    cmr_metadata={},\n",
    "    queue=\"sister-job_worker-32gb\",\n",
    "    identifier=\"%s_L2A_CORFL_000\" % identifier)\n",
    "\n",
    "print('Submission status: %s' % rfl_corr_job_response.status)\n",
    "print('Job ID: %s' % rfl_corr_job_response.id)"
   ]
  },
  {
   "cell_type": "markdown",
   "id": "04cf1bcf",
   "metadata": {},
   "source": [
    "### Get correction output product URL"
   ]
  },
  {
   "cell_type": "code",
   "execution_count": null,
   "id": "fd770a87",
   "metadata": {},
   "outputs": [],
   "source": [
    "rfl_correct_granule,rfl_correct_qlook,rfl_correct_log = get_output(rfl_corr_job_response.id)\n",
    "print(rfl_correct_granule)\n",
    "\n",
    "IPython.display.Image(rfl_correct_qlook)"
   ]
  },
  {
   "cell_type": "code",
   "execution_count": null,
   "id": "d98af251",
   "metadata": {},
   "outputs": [],
   "source": []
  }
 ],
 "metadata": {
  "kernelspec": {
   "display_name": "Python 3 (ipykernel)",
   "language": "python",
   "name": "python3"
  },
  "language_info": {
   "codemirror_mode": {
    "name": "ipython",
    "version": 3
   },
   "file_extension": ".py",
   "mimetype": "text/x-python",
   "name": "python",
   "nbconvert_exporter": "python",
   "pygments_lexer": "ipython3",
   "version": "3.8.2"
  }
 },
 "nbformat": 4,
 "nbformat_minor": 5
}
